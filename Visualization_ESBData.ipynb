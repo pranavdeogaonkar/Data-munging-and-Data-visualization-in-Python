{
 "cells": [
  {
   "cell_type": "code",
   "execution_count": null,
   "metadata": {},
   "outputs": [],
   "source": [
    "import pandas as pd \n"
   ]
  },
  {
   "cell_type": "markdown",
   "metadata": {},
   "source": [
    "### Importing csv file which is cleaned with tidy data format."
   ]
  },
  {
   "cell_type": "code",
   "execution_count": null,
   "metadata": {},
   "outputs": [],
   "source": [
    "\n",
    "Councils_Data = pd.read_csv(\"./Data/Visualization_Data.csv\")"
   ]
  },
  {
   "cell_type": "code",
   "execution_count": null,
   "metadata": {},
   "outputs": [],
   "source": [
    "Councils_Data.head()"
   ]
  },
  {
   "cell_type": "code",
   "execution_count": null,
   "metadata": {},
   "outputs": [],
   "source": [
    "import altair as alt"
   ]
  },
  {
   "cell_type": "code",
   "execution_count": null,
   "metadata": {},
   "outputs": [],
   "source": [
    "print(sorted(Councils_Data.Councils_County_City.unique()))"
   ]
  },
  {
   "cell_type": "code",
   "execution_count": null,
   "metadata": {},
   "outputs": [],
   "source": [
    "Councils_Data.info()"
   ]
  },
  {
   "cell_type": "code",
   "execution_count": null,
   "metadata": {},
   "outputs": [],
   "source": [
    "Councils_Data[\"Year_Month\"] = pd.to_datetime(Councils_Data[\"Year_Month\"])"
   ]
  },
  {
   "cell_type": "code",
   "execution_count": null,
   "metadata": {},
   "outputs": [],
   "source": [
    "Councils_Data[\"No_Households\"] = pd.to_numeric(Councils_Data[\"No_Households\"])"
   ]
  },
  {
   "cell_type": "code",
   "execution_count": null,
   "metadata": {},
   "outputs": [],
   "source": [
    "Councils_Data"
   ]
  },
  {
   "cell_type": "code",
   "execution_count": null,
   "metadata": {},
   "outputs": [],
   "source": [
    "Councils_Data.info()"
   ]
  },
  {
   "cell_type": "markdown",
   "metadata": {},
   "source": [
    "## Visualization 1 : Comparison between number of household ESB connections established during time period from 2006-2013 in specific Counties vs Cities (Cork,Galway,Dublin,Waterford and Limerick) "
   ]
  },
  {
   "cell_type": "code",
   "execution_count": null,
   "metadata": {},
   "outputs": [],
   "source": [
    "counties=['Dublin','Cork','Waterford','Galway','Limerick']"
   ]
  },
  {
   "cell_type": "code",
   "execution_count": null,
   "metadata": {},
   "outputs": [],
   "source": [
    "County_DF = pd.concat(Councils_Data[Councils_Data['Councils_County_City'] == Selected_County] for Selected_County in counties)\n"
   ]
  },
  {
   "cell_type": "code",
   "execution_count": null,
   "metadata": {},
   "outputs": [],
   "source": [
    "alt.data_transformers.disable_max_rows()"
   ]
  },
  {
   "cell_type": "code",
   "execution_count": null,
   "metadata": {},
   "outputs": [],
   "source": [
    "\n",
    "\n",
    "County_Plot = alt.Chart(County_DF).mark_line().encode(\n",
    "    x='Year_Month',\n",
    "    y='No_Households',\n",
    "    color='Councils_County_City'\n",
    ")"
   ]
  },
  {
   "cell_type": "code",
   "execution_count": null,
   "metadata": {},
   "outputs": [],
   "source": [
    "cities = ['Cork_City','Dublin_City','Galway_City','Limerick_City','Waterford_City']"
   ]
  },
  {
   "cell_type": "code",
   "execution_count": null,
   "metadata": {},
   "outputs": [],
   "source": [
    "City_DF = pd.concat(Councils_Data[Councils_Data['Councils_County_City'] == Selected_City] for Selected_City in cities)\n"
   ]
  },
  {
   "cell_type": "code",
   "execution_count": null,
   "metadata": {},
   "outputs": [],
   "source": [
    "City_Plot = alt.Chart(City_DF).mark_line().encode(\n",
    "    x=alt.X(\n",
    "        \"Year_Month\", \n",
    "        title=\"Time Period\",\n",
    "    ),\n",
    "    y=alt.Y(\n",
    "        \"No_Households\",\n",
    "        title=\"Connections Established\",\n",
    "    ),\n",
    "    color=\"Councils_County_City\"\n",
    ")"
   ]
  },
  {
   "cell_type": "markdown",
   "metadata": {},
   "source": []
  },
  {
   "cell_type": "code",
   "execution_count": null,
   "metadata": {},
   "outputs": [],
   "source": [
    "County_Plot |City_Plot\n",
    "\n",
    "# Insights : When we compare two plots it can be inferred that highest number of connections established among \n",
    "# selected counties, \"County Cork\" has highest whereas among cities \"Dublin_City\" has highest number of connections for \n",
    "# the year 2006. Also, over the period for all counties and cities (exclusively selected) \n",
    "# the number of connections have reduced."
   ]
  },
  {
   "cell_type": "markdown",
   "metadata": {},
   "source": [
    "## Visualization 2: Month wise number of connections provided in 2007 at four counties (Cork, Galway, Limerick and Mayo)"
   ]
  },
  {
   "cell_type": "code",
   "execution_count": null,
   "metadata": {},
   "outputs": [],
   "source": [
    "Counties_2007 = ['Cork','Mayo','Galway','Limerick']"
   ]
  },
  {
   "cell_type": "code",
   "execution_count": null,
   "metadata": {},
   "outputs": [],
   "source": [
    "Councils_Data['Year'] = Councils_Data['Year_Month'].dt.year"
   ]
  },
  {
   "cell_type": "code",
   "execution_count": null,
   "metadata": {},
   "outputs": [],
   "source": [
    "\n",
    "Councils_Data['Month'] = Councils_Data['Year_Month'].dt.month"
   ]
  },
  {
   "cell_type": "code",
   "execution_count": null,
   "metadata": {},
   "outputs": [],
   "source": [
    "Councils_Data.info()"
   ]
  },
  {
   "cell_type": "code",
   "execution_count": null,
   "metadata": {},
   "outputs": [],
   "source": [
    "Data_2007 = Councils_Data[Councils_Data['Year'] == 2007]"
   ]
  },
  {
   "cell_type": "code",
   "execution_count": null,
   "metadata": {},
   "outputs": [],
   "source": [
    "\n",
    "Data_2007_plot = pd.concat(Data_2007[Data_2007['Councils_County_City'] == sel_county] for sel_county in Counties_2007)"
   ]
  },
  {
   "cell_type": "code",
   "execution_count": null,
   "metadata": {},
   "outputs": [],
   "source": [
    "County_Plot_2007 = alt.Chart(Data_2007_plot).mark_bar().encode(\n",
    "    x=alt.X(\n",
    "        \"Month\", \n",
    "        title=\"Months in 2007\",\n",
    "    ),\n",
    "    y=alt.Y(\n",
    "        \"No_Households\",\n",
    "        title=\"Connections Established\",\n",
    "    ),\n",
    "    color=\"Councils_County_City\",\n",
    "    column=alt.Column('Councils_County_City', header=alt.Header(title=None, labelOrient='bottom'))\n",
    ").configure_view(\n",
    "    stroke='transparent'\n",
    ")\n",
    "County_Plot_2007\n",
    "\n",
    "\n",
    "# Insights:\n",
    "  # Below plots depict month wise connections established in Cork,Galway,Limerick and Mayo in 2007. \n",
    "  # It can inferred as :\n",
    "      # 1. Cork - Highest number of connections were provided in March and lowest in July (2007).\n",
    "      # 2. Galway - Highest number of connections were provided in November and lowest in August (2007).\n",
    "      # 3. Limerick - Highest number of connections were provided in December and lowest in July (2007).\n",
    "      # 4. Mayo - Highest number of connections were provided in November and lowest in May (2007)."
   ]
  },
  {
   "cell_type": "markdown",
   "metadata": {},
   "source": [
    "## Visualization 3 : Total Number of Household connections established in all counties and cities together from 2006-2013"
   ]
  },
  {
   "cell_type": "code",
   "execution_count": null,
   "metadata": {},
   "outputs": [],
   "source": [
    "Years_timeperiod = [2006,2007,2008,2009,2010,2011,2012,2013]"
   ]
  },
  {
   "cell_type": "code",
   "execution_count": null,
   "metadata": {},
   "outputs": [],
   "source": [
    "Counties_Beg_L = Councils_Data.groupby(['Year'])['No_Households'].sum().reset_index()"
   ]
  },
  {
   "cell_type": "code",
   "execution_count": null,
   "metadata": {},
   "outputs": [],
   "source": [
    "Counties_Beg_L"
   ]
  },
  {
   "cell_type": "code",
   "execution_count": null,
   "metadata": {},
   "outputs": [],
   "source": [
    "County_Beg_L_Data = pd.concat(Counties_Beg_L[Counties_Beg_L['Year'] == sel_county_L] for sel_county_L in Years_timeperiod)"
   ]
  },
  {
   "cell_type": "code",
   "execution_count": null,
   "metadata": {},
   "outputs": [],
   "source": [
    "County_Beg_L_Data['Year'] = pd.Categorical(County_Beg_L_Data.Year)"
   ]
  },
  {
   "cell_type": "code",
   "execution_count": null,
   "metadata": {},
   "outputs": [],
   "source": [
    "alt.Chart(County_Beg_L_Data).mark_line(point=True).encode(\n",
    "    x='Year',\n",
    "    y='No_Households',\n",
    "    color=alt.value('green')\n",
    "    \n",
    ")\n",
    "\n",
    "# Insights:\n",
    "\n",
    " # Below line + point plot infers that :\n",
    "    # Along the period from 2006-2013 there is a downward trend observed in total number of connections established for\n",
    "    # all counties and cities together."
   ]
  },
  {
   "cell_type": "markdown",
   "metadata": {},
   "source": [
    "## Visualization 4 : Top 5 counties/cities in 2010 having maximum number of ESB connections"
   ]
  },
  {
   "cell_type": "code",
   "execution_count": null,
   "metadata": {},
   "outputs": [],
   "source": [
    "Data_2010 = Councils_Data[Councils_Data['Year'] == 2010]"
   ]
  },
  {
   "cell_type": "code",
   "execution_count": null,
   "metadata": {},
   "outputs": [],
   "source": [
    "Data_2010_Grp = Data_2010.groupby(['Councils_County_City'])['No_Households'].sum().reset_index()"
   ]
  },
  {
   "cell_type": "code",
   "execution_count": null,
   "metadata": {},
   "outputs": [],
   "source": [
    "Data_2010_Grp = Data_2010_Grp.nlargest(5,['No_Households'])"
   ]
  },
  {
   "cell_type": "code",
   "execution_count": null,
   "metadata": {},
   "outputs": [],
   "source": [
    "Bar_plot = alt.Chart(Data_2010_Grp).mark_bar().encode(\n",
    "    x=alt.X('No_Households'),\n",
    "    y='Councils_County_City',\n",
    "    \n",
    ")\n",
    "\n",
    "text = Bar_plot.mark_text(\n",
    "    align='left',\n",
    "    baseline='middle',\n",
    "    dx=3  \n",
    ").encode(\n",
    "    text='No_Households'\n",
    ")\n",
    "\n",
    "Bar_plot+text\n",
    "\n",
    "\n",
    "# Insights :\n",
    "  # Below bar plot depicts the top 5 counties/cities having highest number of ESB connections in 2010. \n",
    "  # Counties/Cities are as below:\n",
    "    # County - Cork, Donegal, Galway and Wexford\n",
    "    # City - Dublin city"
   ]
  },
  {
   "cell_type": "markdown",
   "metadata": {},
   "source": [
    "## Visualization 5 : Subsetting data with counties/cities that begin with \"L\" and comparing average number of household connections established in  2006 and 2013."
   ]
  },
  {
   "cell_type": "code",
   "execution_count": null,
   "metadata": {},
   "outputs": [],
   "source": [
    "Counties_Beg_L = Councils_Data[Councils_Data.Councils_County_City.str.startswith('L')] \n",
    "\n",
    "Counties_Beg_L"
   ]
  },
  {
   "cell_type": "code",
   "execution_count": null,
   "metadata": {},
   "outputs": [],
   "source": [
    "Data_2006 = Counties_Beg_L[Counties_Beg_L['Year'] == 2006]"
   ]
  },
  {
   "cell_type": "code",
   "execution_count": null,
   "metadata": {},
   "outputs": [],
   "source": [
    "Data_2013 = Counties_Beg_L[Counties_Beg_L['Year'] == 2013]"
   ]
  },
  {
   "cell_type": "code",
   "execution_count": null,
   "metadata": {},
   "outputs": [],
   "source": [
    "Data_2006_Grp = Data_2006.groupby(['Councils_County_City','Month'])['No_Households'].sum().reset_index()"
   ]
  },
  {
   "cell_type": "code",
   "execution_count": null,
   "metadata": {},
   "outputs": [],
   "source": [
    "Data_2006_Grp "
   ]
  },
  {
   "cell_type": "code",
   "execution_count": null,
   "metadata": {},
   "outputs": [],
   "source": [
    "Avg_Plot_2006 = alt.Chart(Data_2006_Grp).mark_area(opacity=0.3).encode(\n",
    "    x=\"Councils_County_City\",\n",
    "    y=alt.Y('mean(No_Households)',stack=None),\n",
    "    color=alt.value(\"yellow\")\n",
    ")\n",
    "\n",
    "Avg_Plot_2006"
   ]
  },
  {
   "cell_type": "code",
   "execution_count": null,
   "metadata": {},
   "outputs": [],
   "source": [
    "Data_2013_Grp = Data_2013.groupby(['Councils_County_City','Month'])['No_Households'].sum().reset_index()"
   ]
  },
  {
   "cell_type": "code",
   "execution_count": null,
   "metadata": {},
   "outputs": [],
   "source": [
    "Avg_Plot_2013 = alt.Chart(Data_2013_Grp).mark_area(opacity=0.3).encode(\n",
    "    x=\"Councils_County_City\",\n",
    "    y=alt.Y('mean(No_Households)',stack=None),\n",
    "    color=alt.value(\"blue\")\n",
    ")\n",
    "Avg_Plot_2013"
   ]
  },
  {
   "cell_type": "code",
   "execution_count": null,
   "metadata": {},
   "outputs": [],
   "source": [
    "Avg_Plot_2006 |Avg_Plot_2013\n",
    "\n",
    "# Insights:\n",
    "\n",
    " # Below area graphs show average number of household connections established in 2006 and 2013 respectively \n",
    " # for counties/cities with initials as \"L\".\n",
    " # It can be observed that in 2006, County Limerick had highest average connections while in 2013, \n",
    " # County Louth had highest.\n",
    "    "
   ]
  },
  {
   "cell_type": "code",
   "execution_count": null,
   "metadata": {},
   "outputs": [],
   "source": []
  }
 ],
 "metadata": {
  "kernelspec": {
   "display_name": "Python 3",
   "language": "python",
   "name": "python3"
  },
  "language_info": {
   "codemirror_mode": {
    "name": "ipython",
    "version": 3
   },
   "file_extension": ".py",
   "mimetype": "text/x-python",
   "name": "python",
   "nbconvert_exporter": "python",
   "pygments_lexer": "ipython3",
   "version": "3.7.3"
  }
 },
 "nbformat": 4,
 "nbformat_minor": 2
}
